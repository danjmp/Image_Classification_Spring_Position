{
 "cells": [
  {
   "cell_type": "markdown",
   "metadata": {},
   "source": [
    "## Image Classification - Spring Position"
   ]
  },
  {
   "cell_type": "markdown",
   "metadata": {},
   "source": [
    "The Step Valve (SV) is used to control the flame intensity in gas cook-tops. The SV is made of 28 components and in this document we are analyzing mainly two of them, the Bush Valve (BV) and the spring that goes inserted in the BV. Each SV contains 9 bush SVs and consequentely 9 springs. Sometimes this spring is slightly inlined toward outside and it can cause gas leaking.  This doc presents the implementation of a Convolutional Neural Network that can be able of detecting if the a spring in inclined or not. In the image below we can see 3 BV with the springs inserted. Two of them are in the right position and one one them in inclined (middle one). \n"
   ]
  },
  {
   "cell_type": "markdown",
   "metadata": {},
   "source": [
    "<img src=\"files/BOTH_29.png\">"
   ]
  },
  {
   "cell_type": "markdown",
   "metadata": {},
   "source": [
    "### Dataset"
   ]
  },
  {
   "cell_type": "markdown",
   "metadata": {},
   "source": [
    "To train our CNN we have first \"cleaned\" our images, i.e., we remove all the noise of the image above and leave only what we want to classify. To that task I have used Excel (VBA). Finally we have the images below. In the left one the spring is okay and in the right one it is moved."
   ]
  },
  {
   "cell_type": "markdown",
   "metadata": {},
   "source": [
    "<img src=\"files/Spring_Detailed.png\">"
   ]
  },
  {
   "cell_type": "markdown",
   "metadata": {},
   "source": [
    "We have a classification proble where we want to identify if a given spring is moved or not. The two classes defined are OK (spring in the right position) and NOK (spring inclined). To be able to train our model there is a specific structure that the images must be inside the folders. The figure below shows that structure."
   ]
  },
  {
   "cell_type": "markdown",
   "metadata": {},
   "source": [
    "<img src=\"files/Data_Str.png\">"
   ]
  },
  {
   "cell_type": "markdown",
   "metadata": {},
   "source": [
    "We are using 430 images for train, 121 for validation and 178 for test."
   ]
  },
  {
   "cell_type": "code",
   "execution_count": 1,
   "metadata": {},
   "outputs": [
    {
     "name": "stderr",
     "output_type": "stream",
     "text": [
      "Using TensorFlow backend.\n"
     ]
    }
   ],
   "source": [
    "#Importing the necessary packages.\n",
    "import keras\n",
    "keras.__version__\n",
    "import pandas as pd\n",
    "import numpy as np\n",
    "import matplotlib.pyplot as plt\n",
    "import keras\n",
    "from keras import layers\n",
    "from keras import models\n",
    "from keras.backend import clear_session\n",
    "from keras.layers import Conv2D, MaxPooling2D, Flatten, Dense\n",
    "from keras.preprocessing import image\n",
    "import numpy as np\n",
    "from keras.models import load_model\n",
    "import os\n",
    "import shutil\n",
    "from random import sample, randint\n",
    "import seaborn as sns"
   ]
  },
  {
   "cell_type": "markdown",
   "metadata": {},
   "source": [
    "### Building the CNN"
   ]
  },
  {
   "cell_type": "markdown",
   "metadata": {},
   "source": [
    "The input shape is (150, 150, 1) because we are starting with images of size 150 x 150, that was chosen randomly and the number \"1\" is related to the fact the images are black and white. "
   ]
  },
  {
   "cell_type": "code",
   "execution_count": 23,
   "metadata": {},
   "outputs": [],
   "source": [
    "clear_session()\n",
    "\n",
    "model = models.Sequential()\n",
    "model.add(layers.Conv2D(32,kernel_size=3 , activation=\"relu\", input_shape=(150,150,1)))\n",
    "model.add(MaxPooling2D(pool_size=(2, 2)))\n",
    "model.add(layers.Conv2D(64,kernel_size=3 , activation=\"relu\"))\n",
    "model.add(MaxPooling2D(pool_size=(2, 2)))\n",
    "model.add(layers.Conv2D(128,kernel_size=3 , activation=\"relu\"))\n",
    "model.add(MaxPooling2D(pool_size=(2, 2)))\n",
    "model.add(layers.Conv2D(128,kernel_size=3 , activation=\"relu\"))\n",
    "model.add(MaxPooling2D(pool_size=(2, 2)))\n",
    "model.add(Flatten())\n",
    "model.add(Dense(512, activation='relu'))\n",
    "model.add(Dense(1, activation='sigmoid'))"
   ]
  },
  {
   "cell_type": "code",
   "execution_count": 24,
   "metadata": {},
   "outputs": [
    {
     "name": "stdout",
     "output_type": "stream",
     "text": [
      "_________________________________________________________________\n",
      "Layer (type)                 Output Shape              Param #   \n",
      "=================================================================\n",
      "conv2d_1 (Conv2D)            (None, 148, 148, 32)      320       \n",
      "_________________________________________________________________\n",
      "max_pooling2d_1 (MaxPooling2 (None, 74, 74, 32)        0         \n",
      "_________________________________________________________________\n",
      "conv2d_2 (Conv2D)            (None, 72, 72, 64)        18496     \n",
      "_________________________________________________________________\n",
      "max_pooling2d_2 (MaxPooling2 (None, 36, 36, 64)        0         \n",
      "_________________________________________________________________\n",
      "conv2d_3 (Conv2D)            (None, 34, 34, 128)       73856     \n",
      "_________________________________________________________________\n",
      "max_pooling2d_3 (MaxPooling2 (None, 17, 17, 128)       0         \n",
      "_________________________________________________________________\n",
      "conv2d_4 (Conv2D)            (None, 15, 15, 128)       147584    \n",
      "_________________________________________________________________\n",
      "max_pooling2d_4 (MaxPooling2 (None, 7, 7, 128)         0         \n",
      "_________________________________________________________________\n",
      "flatten_1 (Flatten)          (None, 6272)              0         \n",
      "_________________________________________________________________\n",
      "dense_1 (Dense)              (None, 512)               3211776   \n",
      "_________________________________________________________________\n",
      "dense_2 (Dense)              (None, 1)                 513       \n",
      "=================================================================\n",
      "Total params: 3,452,545\n",
      "Trainable params: 3,452,545\n",
      "Non-trainable params: 0\n",
      "_________________________________________________________________\n"
     ]
    }
   ],
   "source": [
    "model.summary()"
   ]
  },
  {
   "cell_type": "markdown",
   "metadata": {},
   "source": [
    "Defining the optimizer and its learning rate and the metrics for model evaluation."
   ]
  },
  {
   "cell_type": "code",
   "execution_count": 25,
   "metadata": {},
   "outputs": [],
   "source": [
    "from keras import optimizers\n",
    "\n",
    "\n",
    "RMS=keras.optimizers.RMSprop(lr=0.0001)\n",
    "model.compile(optimizer = RMS,loss = \"binary_crossentropy\" , metrics=['accuracy'])"
   ]
  },
  {
   "cell_type": "markdown",
   "metadata": {},
   "source": [
    "### Data preprocessing\n",
    "The images must be properly formatted in floating tensors before they are given to the network. This is just what we are going to do here. We are rescaling the pixel values (between 0 and 255) to the interval [0, 1] since neural networks prefer to work with small values. We are using also a data augmentatiom method that flips our images in the train dataset."
   ]
  },
  {
   "cell_type": "code",
   "execution_count": 27,
   "metadata": {},
   "outputs": [
    {
     "name": "stdout",
     "output_type": "stream",
     "text": [
      "Found 430 images belonging to 2 classes.\n",
      "Found 121 images belonging to 2 classes.\n",
      "Found 178 images belonging to 2 classes.\n"
     ]
    }
   ],
   "source": [
    "from keras.preprocessing.image import ImageDataGenerator\n",
    "\n",
    "#Usind Data Augmentation due the characteristics of my dataset\n",
    "train_datagen = ImageDataGenerator(rescale = 1./255, zoom_range=0.2, horizontal_flip=True)\n",
    "validation_datagen = ImageDataGenerator(rescale = 1./255)\n",
    "test_datagen = ImageDataGenerator(rescale = 1./255)\n",
    "\n",
    "train_generator = train_datagen.flow_from_directory(\"Images/Train\", color_mode = \"grayscale\", target_size=(150,150), class_mode = \"binary\", batch_size=20)\n",
    "validation_generator = validation_datagen.flow_from_directory(\"Images/Validation\", color_mode = \"grayscale\", target_size=(150,150), class_mode = \"binary\", batch_size=20)\n",
    "test_generator = test_datagen.flow_from_directory(\"Images/Test\", color_mode = \"grayscale\", target_size=(150,150), class_mode = \"binary\", batch_size=20)"
   ]
  },
  {
   "cell_type": "markdown",
   "metadata": {},
   "source": [
    "Let's take a look at one of these generators: it takes us to a batch of 150x150 BW images (dimensions `(20, 150, 150, 1)`) and binary labels (dimension `(20,)`). 20 is the number of examples in each batch (what we call the batch size). The generator generates these batches indefinitely: run a loop through all the images we have in the folder. That's why we have to write break to break the loop at some point."
   ]
  },
  {
   "cell_type": "code",
   "execution_count": 28,
   "metadata": {},
   "outputs": [
    {
     "name": "stdout",
     "output_type": "stream",
     "text": [
      "data batch shape: (20, 150, 150, 1)\n",
      "labels batch shape: (20,)\n"
     ]
    }
   ],
   "source": [
    "for data_batch, labels_batch in train_generator:\n",
    "    print('data batch shape:', data_batch.shape)\n",
    "    print('labels batch shape:', labels_batch.shape)\n",
    "    break"
   ]
  },
  {
   "cell_type": "markdown",
   "metadata": {},
   "source": [
    "Let's run the fit using \"model.fit_generator\". We are running 30 epochs here."
   ]
  },
  {
   "cell_type": "code",
   "execution_count": 9,
   "metadata": {},
   "outputs": [],
   "source": [
    "from keras.callbacks import ModelCheckpoint\n",
    "from keras.callbacks import EarlyStopping\n",
    "import time"
   ]
  },
  {
   "cell_type": "code",
   "execution_count": 10,
   "metadata": {},
   "outputs": [],
   "source": [
    "class TimeHistory(keras.callbacks.Callback):\n",
    "    def on_train_begin(self, logs={}):\n",
    "        self.times = []\n",
    "\n",
    "    def on_epoch_begin(self, batch, logs={}):\n",
    "        self.epoch_time_start = time.time()\n",
    "\n",
    "    def on_epoch_end(self, batch, logs={}):\n",
    "        self.times.append(time.time() - self.epoch_time_start)"
   ]
  },
  {
   "cell_type": "code",
   "execution_count": 11,
   "metadata": {},
   "outputs": [
    {
     "name": "stdout",
     "output_type": "stream",
     "text": [
      "Epoch 1/30\n",
      "30/30 [==============================] - 25s 820ms/step - loss: 0.6707 - acc: 0.5501 - val_loss: 0.6776 - val_acc: 0.5304\n",
      "\n",
      "Epoch 00001: val_acc improved from -inf to 0.53039, saving model to model_02.h5\n",
      "Epoch 2/30\n",
      "30/30 [==============================] - 25s 820ms/step - loss: 0.6404 - acc: 0.6216 - val_loss: 0.6645 - val_acc: 0.6298\n",
      "\n",
      "Epoch 00002: val_acc improved from 0.53039 to 0.62983, saving model to model_02.h5\n",
      "Epoch 3/30\n",
      "30/30 [==============================] - 22s 729ms/step - loss: 0.5815 - acc: 0.6850 - val_loss: 0.5713 - val_acc: 0.6975\n",
      "\n",
      "Epoch 00003: val_acc improved from 0.62983 to 0.69753, saving model to model_02.h5\n",
      "Epoch 4/30\n",
      "30/30 [==============================] - 21s 692ms/step - loss: 0.4879 - acc: 0.7831 - val_loss: 0.6196 - val_acc: 0.6519\n",
      "\n",
      "Epoch 00004: val_acc did not improve from 0.69753\n",
      "Epoch 5/30\n",
      "30/30 [==============================] - 21s 688ms/step - loss: 0.4084 - acc: 0.8250 - val_loss: 0.3923 - val_acc: 0.7963\n",
      "\n",
      "Epoch 00005: val_acc improved from 0.69753 to 0.79630, saving model to model_02.h5\n",
      "Epoch 6/30\n",
      "30/30 [==============================] - 21s 694ms/step - loss: 0.3742 - acc: 0.8400 - val_loss: 0.3424 - val_acc: 0.8398\n",
      "\n",
      "Epoch 00006: val_acc improved from 0.79630 to 0.83978, saving model to model_02.h5\n",
      "Epoch 7/30\n",
      "30/30 [==============================] - 24s 811ms/step - loss: 0.2977 - acc: 0.8899 - val_loss: 0.2865 - val_acc: 0.8889\n",
      "\n",
      "Epoch 00007: val_acc improved from 0.83978 to 0.88889, saving model to model_02.h5\n",
      "Epoch 8/30\n",
      "30/30 [==============================] - 21s 704ms/step - loss: 0.2423 - acc: 0.9217 - val_loss: 0.2558 - val_acc: 0.8785\n",
      "\n",
      "Epoch 00008: val_acc did not improve from 0.88889\n",
      "Epoch 9/30\n",
      "30/30 [==============================] - 21s 693ms/step - loss: 0.2314 - acc: 0.9100 - val_loss: 0.1729 - val_acc: 0.9448\n",
      "\n",
      "Epoch 00009: val_acc improved from 0.88889 to 0.94475, saving model to model_02.h5\n",
      "Epoch 10/30\n",
      "30/30 [==============================] - 20s 676ms/step - loss: 0.1684 - acc: 0.9349 - val_loss: 0.3239 - val_acc: 0.8457\n",
      "\n",
      "Epoch 00010: val_acc did not improve from 0.94475\n",
      "Epoch 11/30\n",
      "30/30 [==============================] - 20s 675ms/step - loss: 0.1818 - acc: 0.9300 - val_loss: 0.1411 - val_acc: 0.9613\n",
      "\n",
      "Epoch 00011: val_acc improved from 0.94475 to 0.96133, saving model to model_02.h5\n",
      "Epoch 12/30\n",
      "30/30 [==============================] - 25s 821ms/step - loss: 0.1493 - acc: 0.9417 - val_loss: 0.2219 - val_acc: 0.9012\n",
      "\n",
      "Epoch 00012: val_acc did not improve from 0.96133\n",
      "Epoch 13/30\n",
      "30/30 [==============================] - 21s 712ms/step - loss: 0.1228 - acc: 0.9650 - val_loss: 0.1544 - val_acc: 0.9337\n",
      "\n",
      "Epoch 00013: val_acc did not improve from 0.96133\n",
      "Epoch 14/30\n",
      "30/30 [==============================] - 20s 671ms/step - loss: 0.1039 - acc: 0.9616 - val_loss: 0.1008 - val_acc: 0.9568\n",
      "\n",
      "Epoch 00014: val_acc did not improve from 0.96133\n",
      "Epoch 15/30\n",
      "30/30 [==============================] - 21s 699ms/step - loss: 0.0929 - acc: 0.9650 - val_loss: 0.0967 - val_acc: 0.9503\n",
      "\n",
      "Epoch 00015: val_acc did not improve from 0.96133\n",
      "Epoch 16/30\n",
      "30/30 [==============================] - 24s 791ms/step - loss: 0.1021 - acc: 0.9583 - val_loss: 0.0952 - val_acc: 0.9669\n",
      "\n",
      "Epoch 00016: val_acc improved from 0.96133 to 0.96685, saving model to model_02.h5\n",
      "Epoch 17/30\n",
      "30/30 [==============================] - 22s 734ms/step - loss: 0.0733 - acc: 0.9733 - val_loss: 0.0613 - val_acc: 0.9815\n",
      "\n",
      "Epoch 00017: val_acc improved from 0.96685 to 0.98148, saving model to model_02.h5\n",
      "Epoch 18/30\n",
      "30/30 [==============================] - 22s 719ms/step - loss: 0.0758 - acc: 0.9683 - val_loss: 0.0869 - val_acc: 0.9613\n",
      "\n",
      "Epoch 00018: val_acc did not improve from 0.98148\n",
      "Epoch 19/30\n",
      "30/30 [==============================] - 21s 693ms/step - loss: 0.0596 - acc: 0.9766 - val_loss: 0.0992 - val_acc: 0.9568\n",
      "\n",
      "Epoch 00019: val_acc did not improve from 0.98148\n",
      "Epoch 20/30\n",
      "30/30 [==============================] - 20s 682ms/step - loss: 0.0720 - acc: 0.9750 - val_loss: 0.0732 - val_acc: 0.9724\n",
      "\n",
      "Epoch 00020: val_acc did not improve from 0.98148\n",
      "Epoch 21/30\n",
      "30/30 [==============================] - 24s 805ms/step - loss: 0.0682 - acc: 0.9750 - val_loss: 0.0533 - val_acc: 0.9938\n",
      "\n",
      "Epoch 00021: val_acc improved from 0.98148 to 0.99383, saving model to model_02.h5\n",
      "Epoch 22/30\n",
      "30/30 [==============================] - 22s 720ms/step - loss: 0.0592 - acc: 0.9850 - val_loss: 0.0563 - val_acc: 0.9779\n",
      "\n",
      "Epoch 00022: val_acc did not improve from 0.99383\n",
      "Epoch 23/30\n",
      "30/30 [==============================] - 21s 702ms/step - loss: 0.0564 - acc: 0.9817 - val_loss: 0.0726 - val_acc: 0.9669\n",
      "\n",
      "Epoch 00023: val_acc did not improve from 0.99383\n",
      "Epoch 24/30\n",
      "30/30 [==============================] - 20s 673ms/step - loss: 0.0582 - acc: 0.9750 - val_loss: 0.0548 - val_acc: 0.9815\n",
      "\n",
      "Epoch 00024: val_acc did not improve from 0.99383\n",
      "Epoch 25/30\n",
      "30/30 [==============================] - 21s 709ms/step - loss: 0.0320 - acc: 0.9883 - val_loss: 0.0401 - val_acc: 0.9724\n",
      "\n",
      "Epoch 00025: val_acc did not improve from 0.99383\n",
      "Epoch 26/30\n",
      "30/30 [==============================] - 24s 809ms/step - loss: 0.0462 - acc: 0.9833 - val_loss: 0.0516 - val_acc: 0.9753\n",
      "\n",
      "Epoch 00026: val_acc did not improve from 0.99383\n",
      "Epoch 27/30\n",
      "30/30 [==============================] - 22s 719ms/step - loss: 0.0541 - acc: 0.9817 - val_loss: 0.0542 - val_acc: 0.9669\n",
      "\n",
      "Epoch 00027: val_acc did not improve from 0.99383\n",
      "Epoch 28/30\n",
      "30/30 [==============================] - 21s 699ms/step - loss: 0.0389 - acc: 0.9850 - val_loss: 0.0739 - val_acc: 0.9753\n",
      "\n",
      "Epoch 00028: val_acc did not improve from 0.99383\n",
      "Epoch 29/30\n",
      "30/30 [==============================] - 21s 704ms/step - loss: 0.0436 - acc: 0.9850 - val_loss: 0.0508 - val_acc: 0.9834\n",
      "\n",
      "Epoch 00029: val_acc did not improve from 0.99383\n",
      "Epoch 30/30\n",
      "30/30 [==============================] - 21s 686ms/step - loss: 0.0302 - acc: 0.9917 - val_loss: 0.0685 - val_acc: 0.9669\n",
      "\n",
      "Epoch 00030: val_acc did not improve from 0.99383\n"
     ]
    }
   ],
   "source": [
    "time_callback = TimeHistory()\n",
    "early_stopping_callback = EarlyStopping(monitor = \"val_acc\", patience = 10)\n",
    "checkpoint = ModelCheckpoint(\"model_02.h5\", monitor=\"val_acc\", verbose=1, save_best_only=True, mode=\"auto\")\n",
    "history_1 = model.fit_generator(train_generator,\n",
    "                             epochs=30,\n",
    "                             steps_per_epoch=30,\n",
    "                             validation_data = validation_generator,\n",
    "                             validation_steps = 10,\n",
    "                             callbacks = [checkpoint, time_callback, early_stopping_callback])"
   ]
  },
  {
   "cell_type": "markdown",
   "metadata": {},
   "source": [
    "Let's check how long it takes to run 30 epochs"
   ]
  },
  {
   "cell_type": "code",
   "execution_count": 12,
   "metadata": {},
   "outputs": [],
   "source": [
    "time_1 = np.cumsum(time_callback.times)"
   ]
  },
  {
   "cell_type": "code",
   "execution_count": 13,
   "metadata": {},
   "outputs": [
    {
     "data": {
      "text/plain": [
       "array([ 24.93331122,  49.83448529,  72.06662345,  92.84350443,\n",
       "       113.89158893, 134.97485495, 159.64715385, 180.77026486,\n",
       "       201.86848092, 222.15521622, 242.81463814, 267.46331382,\n",
       "       288.8184073 , 308.96988034, 329.9382062 , 354.16491199,\n",
       "       376.51190352, 398.10411263, 418.89765286, 439.35884929,\n",
       "       464.00017858, 485.60070562, 506.66810703, 526.87597585,\n",
       "       548.1596787 , 572.44795966, 594.0201683 , 614.99050117,\n",
       "       636.11812901, 656.70410752])"
      ]
     },
     "execution_count": 13,
     "metadata": {},
     "output_type": "execute_result"
    }
   ],
   "source": [
    "time_1[-1]"
   ]
  },
  {
   "cell_type": "markdown",
   "metadata": {},
   "source": [
    "It took around 650 seconds to run the model and the results are quite satisfying."
   ]
  },
  {
   "cell_type": "markdown",
   "metadata": {},
   "source": [
    "Let's plot the accuracy to see how it evolves over time."
   ]
  },
  {
   "cell_type": "code",
   "execution_count": 21,
   "metadata": {},
   "outputs": [
    {
     "data": {
      "image/png": "[encoded data removed]",
      "text/plain": [
       "<matplotlib.figure.Figure at 0x7faf41272c18>"
      ]
     },
     "metadata": {},
     "output_type": "display_data"
    }
   ],
   "source": [
    "sns.set_style(\"darkgrid\")\n",
    "plt.figure(figsize=(18,10))\n",
    "plt.rcParams.update({'font.size': 18})\n",
    "plt.plot(time_1, history_1.history['val_acc'])\n",
    "plt.title('Model accuracy')\n",
    "plt.ylabel('accuracy')\n",
    "plt.xlabel('Time (seconds)')\n",
    "plt.show()"
   ]
  },
  {
   "cell_type": "markdown",
   "metadata": {},
   "source": [
    "After 30 epochs the accuracy obtained was around 99.83%. Now it is time to test our model in the Test dataset"
   ]
  },
  {
   "cell_type": "code",
   "execution_count": 17,
   "metadata": {},
   "outputs": [],
   "source": [
    "model = load_model('model_02.h5')"
   ]
  },
  {
   "cell_type": "code",
   "execution_count": 18,
   "metadata": {},
   "outputs": [],
   "source": [
    "test_loss_1, test_acc_1 = model.evaluate_generator(test_generator)"
   ]
  },
  {
   "cell_type": "code",
   "execution_count": 19,
   "metadata": {},
   "outputs": [
    {
     "name": "stdout",
     "output_type": "stream",
     "text": [
      "0.1437248873492975 0.9550561677204089\n"
     ]
    }
   ],
   "source": [
    "print(test_loss_1,test_acc_1)"
   ]
  },
  {
   "cell_type": "markdown",
   "metadata": {},
   "source": [
    "The results are quite good. The accuracy for the Test dataset is around 95.5%."
   ]
  }
 ],
 "metadata": {
  "kernelspec": {
   "display_name": "Python 3",
   "language": "python",
   "name": "python3"
  },
  "language_info": {
   "codemirror_mode": {
    "name": "ipython",
    "version": 3
   },
   "file_extension": ".py",
   "mimetype": "text/x-python",
   "name": "python",
   "nbconvert_exporter": "python",
   "pygments_lexer": "ipython3",
   "version": "3.6.6"
  }
 },
 "nbformat": 4,
 "nbformat_minor": 2
}
